{
 "cells": [
  {
   "cell_type": "code",
   "execution_count": null,
   "id": "19a2d7bd-c8ad-48ee-a52a-3c54502aacc6",
   "metadata": {},
   "outputs": [],
   "source": [
    "Practical 3\n",
    "import pandas as pd\n",
    "df = pd.read_csv('https://raw.githubusercontent.com/shreeram312/DSBDA/main/student.csv')\n",
    "df.dtypes\n",
    "df['marks'].mean()\n",
    "df['marks'].median()\n",
    "df[['marks','roll','age']].std()\n",
    "import numpy as np\n",
    "np.std(df['marks'])\n",
    "gr1 = df.groupby('class')\n",
    "te = gr1.get_group('TE')\n",
    "te.min()\n",
    "te.max()\n",
    "gr2 = df.groupby('age')\n",
    "gr2.groups\n",
    "tw = gr2.get_group(20)\n",
    "tw"
   ]
  },
  {
   "cell_type": "code",
   "execution_count": 2,
   "id": "effe369d-fbe5-47fc-a395-c56751767de6",
   "metadata": {},
   "outputs": [],
   "source": [
    "import pandas as pd\n",
    "df = pd.read_csv('https://raw.githubusercontent.com/shreeram312/DSBDA/main/student.csv')"
   ]
  },
  {
   "cell_type": "code",
   "execution_count": 3,
   "id": "8cf76922-cc29-42ed-b4c6-060ccf786355",
   "metadata": {},
   "outputs": [
    {
     "data": {
      "text/plain": [
       "roll       int64\n",
       "name      object\n",
       "class     object\n",
       "marks    float64\n",
       "age      float64\n",
       "dtype: object"
      ]
     },
     "execution_count": 3,
     "metadata": {},
     "output_type": "execute_result"
    }
   ],
   "source": [
    "df.dtypes"
   ]
  },
  {
   "cell_type": "code",
   "execution_count": 4,
   "id": "33c95356-b92b-46d6-a05b-7819b4a02e50",
   "metadata": {},
   "outputs": [
    {
     "data": {
      "text/plain": [
       "64.499"
      ]
     },
     "execution_count": 4,
     "metadata": {},
     "output_type": "execute_result"
    }
   ],
   "source": [
    "df['marks'].mean()"
   ]
  },
  {
   "cell_type": "code",
   "execution_count": 5,
   "id": "5e966370-7705-4a6a-84cf-aac2122bd8d9",
   "metadata": {},
   "outputs": [
    {
     "data": {
      "text/plain": [
       "64.31"
      ]
     },
     "execution_count": 5,
     "metadata": {},
     "output_type": "execute_result"
    }
   ],
   "source": [
    "df['marks'].median()"
   ]
  },
  {
   "cell_type": "code",
   "execution_count": 6,
   "id": "fdd066cd-ab58-4dc2-8a63-ffb4d5b61c9e",
   "metadata": {},
   "outputs": [
    {
     "data": {
      "text/plain": [
       "marks    9.207179\n",
       "roll     3.027650\n",
       "age      1.333333\n",
       "dtype: float64"
      ]
     },
     "execution_count": 6,
     "metadata": {},
     "output_type": "execute_result"
    }
   ],
   "source": [
    "df[['marks','roll','age']].std()"
   ]
  },
  {
   "cell_type": "code",
   "execution_count": 7,
   "id": "d1097a52-3a5e-4356-bdba-e214578e88f3",
   "metadata": {},
   "outputs": [
    {
     "data": {
      "text/plain": [
       "8.734696846485285"
      ]
     },
     "execution_count": 7,
     "metadata": {},
     "output_type": "execute_result"
    }
   ],
   "source": [
    "import numpy as np\n",
    "np.std(df['marks'])"
   ]
  },
  {
   "cell_type": "code",
   "execution_count": 8,
   "id": "d870042b-7246-460e-be98-ebede8781885",
   "metadata": {},
   "outputs": [],
   "source": [
    "gr1 = df.groupby('class')"
   ]
  },
  {
   "cell_type": "code",
   "execution_count": 9,
   "id": "0bd33fd9-162b-474a-8d76-8aaebde0e313",
   "metadata": {},
   "outputs": [],
   "source": [
    "te = gr1.get_group('TE')"
   ]
  },
  {
   "cell_type": "code",
   "execution_count": 10,
   "id": "a130f121-d9a2-45ea-b583-1edc05a5f0d5",
   "metadata": {},
   "outputs": [
    {
     "data": {
      "text/plain": [
       "roll           1\n",
       "name     Ajinkya\n",
       "class         TE\n",
       "marks      56.75\n",
       "age         20.0\n",
       "dtype: object"
      ]
     },
     "execution_count": 10,
     "metadata": {},
     "output_type": "execute_result"
    }
   ],
   "source": [
    "te.min()\n"
   ]
  },
  {
   "cell_type": "code",
   "execution_count": 11,
   "id": "65fedf30-0dc9-456f-ac46-8a5cc7f01118",
   "metadata": {},
   "outputs": [
    {
     "data": {
      "text/plain": [
       "roll         9\n",
       "name      Anil\n",
       "class       TE\n",
       "marks    69.66\n",
       "age       22.0\n",
       "dtype: object"
      ]
     },
     "execution_count": 11,
     "metadata": {},
     "output_type": "execute_result"
    }
   ],
   "source": [
    "te.max()"
   ]
  },
  {
   "cell_type": "code",
   "execution_count": 12,
   "id": "0e5dfe95-125c-4c5e-b381-2e1ca3b2a4af",
   "metadata": {},
   "outputs": [],
   "source": [
    "gr2 = df.groupby('age')"
   ]
  },
  {
   "cell_type": "code",
   "execution_count": 13,
   "id": "f1572c72-fac5-4fe6-a0aa-50f887c1ede3",
   "metadata": {},
   "outputs": [
    {
     "data": {
      "text/plain": [
       "{19.0: [2, 6], 20.0: [4, 5, 8], 21.0: [1, 9], 22.0: [0], 23.0: [7]}"
      ]
     },
     "execution_count": 13,
     "metadata": {},
     "output_type": "execute_result"
    }
   ],
   "source": [
    "gr2.groups"
   ]
  },
  {
   "cell_type": "code",
   "execution_count": 14,
   "id": "1050921c-4dab-4aad-8df7-23a2b97a523a",
   "metadata": {},
   "outputs": [],
   "source": [
    "tw = gr2.get_group(20)"
   ]
  },
  {
   "cell_type": "code",
   "execution_count": 15,
   "id": "eb072ff3-e158-4e67-aac4-fcc2f1d62596",
   "metadata": {},
   "outputs": [
    {
     "data": {
      "text/html": [
       "<div>\n",
       "<style scoped>\n",
       "    .dataframe tbody tr th:only-of-type {\n",
       "        vertical-align: middle;\n",
       "    }\n",
       "\n",
       "    .dataframe tbody tr th {\n",
       "        vertical-align: top;\n",
       "    }\n",
       "\n",
       "    .dataframe thead th {\n",
       "        text-align: right;\n",
       "    }\n",
       "</style>\n",
       "<table border=\"1\" class=\"dataframe\">\n",
       "  <thead>\n",
       "    <tr style=\"text-align: right;\">\n",
       "      <th></th>\n",
       "      <th>roll</th>\n",
       "      <th>name</th>\n",
       "      <th>class</th>\n",
       "      <th>marks</th>\n",
       "      <th>age</th>\n",
       "    </tr>\n",
       "  </thead>\n",
       "  <tbody>\n",
       "    <tr>\n",
       "      <th>4</th>\n",
       "      <td>5</td>\n",
       "      <td>Asha</td>\n",
       "      <td>NaN</td>\n",
       "      <td>63.28</td>\n",
       "      <td>20.0</td>\n",
       "    </tr>\n",
       "    <tr>\n",
       "      <th>5</th>\n",
       "      <td>6</td>\n",
       "      <td>Ayesha</td>\n",
       "      <td>BE</td>\n",
       "      <td>49.55</td>\n",
       "      <td>20.0</td>\n",
       "    </tr>\n",
       "    <tr>\n",
       "      <th>8</th>\n",
       "      <td>9</td>\n",
       "      <td>Amol</td>\n",
       "      <td>TE</td>\n",
       "      <td>56.75</td>\n",
       "      <td>20.0</td>\n",
       "    </tr>\n",
       "  </tbody>\n",
       "</table>\n",
       "</div>"
      ],
      "text/plain": [
       "   roll    name class  marks   age\n",
       "4     5    Asha   NaN  63.28  20.0\n",
       "5     6  Ayesha    BE  49.55  20.0\n",
       "8     9    Amol    TE  56.75  20.0"
      ]
     },
     "execution_count": 15,
     "metadata": {},
     "output_type": "execute_result"
    }
   ],
   "source": [
    "tw"
   ]
  },
  {
   "cell_type": "code",
   "execution_count": null,
   "id": "74a35d4e-e250-4812-9000-a1a14d547c34",
   "metadata": {},
   "outputs": [],
   "source": []
  },
  {
   "cell_type": "code",
   "execution_count": null,
   "id": "9624ce8e-7dee-41df-89c7-b71a00f2b94b",
   "metadata": {},
   "outputs": [],
   "source": []
  }
 ],
 "metadata": {
  "kernelspec": {
   "display_name": "Python 3 (ipykernel)",
   "language": "python",
   "name": "python3"
  },
  "language_info": {
   "codemirror_mode": {
    "name": "ipython",
    "version": 3
   },
   "file_extension": ".py",
   "mimetype": "text/x-python",
   "name": "python",
   "nbconvert_exporter": "python",
   "pygments_lexer": "ipython3",
   "version": "3.11.7"
  }
 },
 "nbformat": 4,
 "nbformat_minor": 5
}
