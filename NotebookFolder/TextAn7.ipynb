{
 "cells": [
  {
   "cell_type": "code",
   "execution_count": null,
   "id": "7a1febfd-cd6d-4574-96b7-3d4970b5fba4",
   "metadata": {},
   "outputs": [],
   "source": [
    "import nltk\n",
    "nltk.download(\"punkt\")\n",
    "nltk.download(\"stopwords\")\n",
    "nltk.download(\"wordnet\")\n",
    "nltk.download(\"averaged_perceptron_tagger\")\n",
    "     \n",
    "from nltk import word_tokenize, sent_tokenize\n",
    "from nltk import pos_tag\n",
    "from nltk.corpus import stopwords\n",
    "from nltk.stem import PorterStemmer\n",
    "from nltk.stem import WordNetLemmatizer\n",
    "\n",
    "corpus = \"Sachin was the GOAT of the previous generation. Virat is the GOAT of this generation. Shubman will be the GOAT of the next generation\"\n",
    "\n",
    "print(word_tokenize(corpus))\n",
    "print(sent_tokenize(corpus))\n",
    "\n",
    "tokens = word_tokenize(corpus)\n",
    "print(pos_tag(tokens))\n",
    "\n",
    "stop_words = set(stopwords.words(\"english\"))\n",
    "\n",
    "tokens = word_tokenize(corpus)\n",
    "cleaned_tokens = []\n",
    "for token in tokens:\n",
    "  if (token not in stop_words):\n",
    "    cleaned_tokens.append(token)\n",
    "print(cleaned_tokens)\n",
    "\n",
    "stemmer = PorterStemmer()\n",
    "stemmed_tokens = []\n",
    "for token in cleaned_tokens:\n",
    "  stemmed = stemmer.stem(token)\n",
    "  stemmed_tokens.append(stemmed)\n",
    "print(stemmed_tokens)\n",
    "\n",
    "lemmatizer = WordNetLemmatizer()\n",
    "lemmatized_tokens = []\n",
    "for token in cleaned_tokens:\n",
    "  lemmatized = lemmatizer.lemmatize(token)\n",
    "  lemmatized_tokens.append(lemmatized)\n",
    "print(lemmatized_tokens)\n",
    "\n",
    "from sklearn.feature_extraction.text import TfidfVectorizer\n",
    "\n",
    "corpus = [\n",
    "    \"Sachin was the GOAT of the previous generation\",\n",
    "    \"Virat is the GOAT of the this generation\",\n",
    "    \"Shubman will be the GOAT of the next generation\"\n",
    "]\n",
    "\n",
    "vectorizer = TfidfVectorizer()\n",
    "matrix = vectorizer.fit(corpus)\n",
    "print(vectorizer.get_feature_names_out())\n"
   ]
  },
  {
   "cell_type": "code",
   "execution_count": 10,
   "id": "5b62dfa6-af55-49dc-9e64-ab0c688ebaf1",
   "metadata": {},
   "outputs": [
    {
     "name": "stderr",
     "output_type": "stream",
     "text": [
      "[nltk_data] Downloading package punkt to\n",
      "[nltk_data]     C:\\Users\\Shreeram\\AppData\\Roaming\\nltk_data...\n",
      "[nltk_data]   Package punkt is already up-to-date!\n",
      "[nltk_data] Downloading package stopwords to\n",
      "[nltk_data]     C:\\Users\\Shreeram\\AppData\\Roaming\\nltk_data...\n",
      "[nltk_data]   Package stopwords is already up-to-date!\n",
      "[nltk_data] Downloading package wordnet to\n",
      "[nltk_data]     C:\\Users\\Shreeram\\AppData\\Roaming\\nltk_data...\n",
      "[nltk_data]   Package wordnet is already up-to-date!\n",
      "[nltk_data] Downloading package averaged_perceptron_tagger to\n",
      "[nltk_data]     C:\\Users\\Shreeram\\AppData\\Roaming\\nltk_data...\n",
      "[nltk_data]   Package averaged_perceptron_tagger is already up-to-\n",
      "[nltk_data]       date!\n"
     ]
    }
   ],
   "source": [
    "import nltk\n",
    "nltk.download(\"punkt\")\n",
    "nltk.download(\"stopwords\")\n",
    "nltk.download(\"wordnet\")\n",
    "nltk.download(\"averaged_perceptron_tagger\")\n",
    "     \n",
    "from nltk import word_tokenize, sent_tokenize\n",
    "from nltk import pos_tag\n",
    "from nltk.corpus import stopwords\n",
    "from nltk.stem import PorterStemmer\n",
    "from nltk.stem import WordNetLemmatizer\n",
    "\n",
    "corpus = \"Sachin was the GOAT of the previous generation. Virat is the GOAT of this generation. Shubman will be the GOAT of the next generation\""
   ]
  },
  {
   "cell_type": "code",
   "execution_count": 2,
   "id": "8ebd9205-39e8-4bbe-aa07-3ac89875062e",
   "metadata": {},
   "outputs": [
    {
     "name": "stdout",
     "output_type": "stream",
     "text": [
      "['Sachin', 'was', 'the', 'GOAT', 'of', 'the', 'previous', 'generation', '.', 'Virat', 'is', 'the', 'GOAT', 'of', 'this', 'generation', '.', 'Shubman', 'will', 'be', 'the', 'GOAT', 'of', 'the', 'next', 'generation']\n",
      "['Sachin was the GOAT of the previous generation.', 'Virat is the GOAT of this generation.', 'Shubman will be the GOAT of the next generation']\n"
     ]
    }
   ],
   "source": [
    "print(word_tokenize(corpus))\n",
    "print(sent_tokenize(corpus))"
   ]
  },
  {
   "cell_type": "code",
   "execution_count": 3,
   "id": "a6538ed1-62f4-477d-9f7d-3636f3ce33e0",
   "metadata": {},
   "outputs": [
    {
     "name": "stdout",
     "output_type": "stream",
     "text": [
      "[('Sachin', 'NNP'), ('was', 'VBD'), ('the', 'DT'), ('GOAT', 'NNP'), ('of', 'IN'), ('the', 'DT'), ('previous', 'JJ'), ('generation', 'NN'), ('.', '.'), ('Virat', 'NNP'), ('is', 'VBZ'), ('the', 'DT'), ('GOAT', 'NNP'), ('of', 'IN'), ('this', 'DT'), ('generation', 'NN'), ('.', '.'), ('Shubman', 'NNP'), ('will', 'MD'), ('be', 'VB'), ('the', 'DT'), ('GOAT', 'NNP'), ('of', 'IN'), ('the', 'DT'), ('next', 'JJ'), ('generation', 'NN')]\n"
     ]
    }
   ],
   "source": [
    "tokens = word_tokenize(corpus)\n",
    "print(pos_tag(tokens))\n"
   ]
  },
  {
   "cell_type": "code",
   "execution_count": 4,
   "id": "4917a92e-a7ea-41f4-be84-204175fa8b99",
   "metadata": {},
   "outputs": [],
   "source": [
    "stop_words = set(stopwords.words(\"english\"))"
   ]
  },
  {
   "cell_type": "code",
   "execution_count": 5,
   "id": "bfbc941d-53b1-4def-9955-2c5d7189304c",
   "metadata": {},
   "outputs": [
    {
     "name": "stdout",
     "output_type": "stream",
     "text": [
      "['Sachin', 'GOAT', 'previous', 'generation', '.', 'Virat', 'GOAT', 'generation', '.', 'Shubman', 'GOAT', 'next', 'generation']\n"
     ]
    }
   ],
   "source": [
    "tokens = word_tokenize(corpus)\n",
    "cleaned_tokens = []\n",
    "for token in tokens:\n",
    "  if (token not in stop_words):\n",
    "    cleaned_tokens.append(token)\n",
    "print(cleaned_tokens)"
   ]
  },
  {
   "cell_type": "code",
   "execution_count": 6,
   "id": "8073b613-d3dd-4b58-8fed-16abbd9f713c",
   "metadata": {},
   "outputs": [
    {
     "name": "stdout",
     "output_type": "stream",
     "text": [
      "['sachin', 'goat', 'previou', 'gener', '.', 'virat', 'goat', 'gener', '.', 'shubman', 'goat', 'next', 'gener']\n"
     ]
    }
   ],
   "source": [
    "stemmer = PorterStemmer()\n",
    "stemmed_tokens = []\n",
    "for token in cleaned_tokens:\n",
    "  stemmed = stemmer.stem(token)\n",
    "  stemmed_tokens.append(stemmed)\n",
    "print(stemmed_tokens)"
   ]
  },
  {
   "cell_type": "code",
   "execution_count": 7,
   "id": "0a354f70-dbd6-4d69-b36a-2d00c57a2ca6",
   "metadata": {},
   "outputs": [
    {
     "name": "stdout",
     "output_type": "stream",
     "text": [
      "['Sachin', 'GOAT', 'previous', 'generation', '.', 'Virat', 'GOAT', 'generation', '.', 'Shubman', 'GOAT', 'next', 'generation']\n"
     ]
    }
   ],
   "source": [
    "lemmatizer = WordNetLemmatizer()\n",
    "lemmatized_tokens = []\n",
    "for token in cleaned_tokens:\n",
    "  lemmatized = lemmatizer.lemmatize(token)\n",
    "  lemmatized_tokens.append(lemmatized)\n",
    "print(lemmatized_tokens)"
   ]
  },
  {
   "cell_type": "code",
   "execution_count": 8,
   "id": "6fae3e34-9f19-4975-8a86-a00131290e06",
   "metadata": {},
   "outputs": [],
   "source": [
    "from sklearn.feature_extraction.text import TfidfVectorizer"
   ]
  },
  {
   "cell_type": "code",
   "execution_count": 9,
   "id": "36d39efc-b907-4820-8f8a-e49c82da8ea3",
   "metadata": {},
   "outputs": [
    {
     "name": "stdout",
     "output_type": "stream",
     "text": [
      "['be' 'generation' 'goat' 'is' 'next' 'of' 'previous' 'sachin' 'shubman'\n",
      " 'the' 'this' 'virat' 'was' 'will']\n"
     ]
    }
   ],
   "source": [
    "corpus = [\n",
    "    \"Sachin was the GOAT of the previous generation\",\n",
    "    \"Virat is the GOAT of the this generation\",\n",
    "    \"Shubman will be the GOAT of the next generation\"\n",
    "]\n",
    "\n",
    "vectorizer = TfidfVectorizer()\n",
    "matrix = vectorizer.fit(corpus)\n",
    "print(vectorizer.get_feature_names_out())"
   ]
  },
  {
   "cell_type": "code",
   "execution_count": null,
   "id": "5c564d0c-7a0e-46fd-bbb4-b8937ed95a24",
   "metadata": {},
   "outputs": [],
   "source": []
  }
 ],
 "metadata": {
  "kernelspec": {
   "display_name": "Python 3 (ipykernel)",
   "language": "python",
   "name": "python3"
  },
  "language_info": {
   "codemirror_mode": {
    "name": "ipython",
    "version": 3
   },
   "file_extension": ".py",
   "mimetype": "text/x-python",
   "name": "python",
   "nbconvert_exporter": "python",
   "pygments_lexer": "ipython3",
   "version": "3.11.7"
  }
 },
 "nbformat": 4,
 "nbformat_minor": 5
}
